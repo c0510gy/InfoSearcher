{
 "cells": [
  {
   "cell_type": "markdown",
   "metadata": {
    "id": "6PksVatgPtDm"
   },
   "source": [
    "# Setting"
   ]
  },
  {
   "cell_type": "code",
   "execution_count": 60,
   "metadata": {
    "id": "AiqL9jq5PrBX"
   },
   "outputs": [],
   "source": [
    "import sentencepiece as spm\n",
    "from torchtext.legacy.data import Field, TabularDataset, Iterator\n",
    "import matplotlib.pyplot as plt"
   ]
  },
  {
   "cell_type": "code",
   "execution_count": 3,
   "metadata": {
    "id": "bWepVmW3PrBZ"
   },
   "outputs": [],
   "source": [
    "# pytorch\n",
    "import torch\n",
    "import torch.nn as nn\n",
    "import torch.nn.functional as F\n",
    "import torch.optim as optim"
   ]
  },
  {
   "cell_type": "markdown",
   "metadata": {
    "id": "u57v51M0Oujl"
   },
   "source": [
    "---\n",
    "# SentencePiece Model"
   ]
  },
  {
   "cell_type": "code",
   "execution_count": 5,
   "metadata": {
    "id": "6PtugvRdMlg_"
   },
   "outputs": [],
   "source": [
    "import sentencepiece as spm"
   ]
  },
  {
   "cell_type": "code",
   "execution_count": null,
   "metadata": {
    "id": "J2vtZ8_QNp0L"
   },
   "outputs": [],
   "source": [
    "spm.SentencePieceTrainer.Train('--input=/content/gdrive/MyDrive/algorima/train_data --model_prefix=movie --vocab_size=16000 --model_type=bpe --max_sentence_length=9999')"
   ]
  },
  {
   "cell_type": "markdown",
   "metadata": {
    "id": "_qV25MTvQe-W"
   },
   "source": [
    "---\n",
    "# Load a sentence piece model and dataset"
   ]
  },
  {
   "cell_type": "code",
   "execution_count": 4,
   "metadata": {
    "colab": {
     "base_uri": "https://localhost:8080/"
    },
    "id": "qSF162hwdSTY",
    "outputId": "8a07455e-6fb1-4350-acd2-5962909e5072"
   },
   "outputs": [
    {
     "data": {
      "text/plain": [
       "True"
      ]
     },
     "execution_count": 4,
     "metadata": {},
     "output_type": "execute_result"
    }
   ],
   "source": [
    "# Load sentence piece model\n",
    "\n",
    "sp = spm.SentencePieceProcessor()\n",
    "vocab_file = \"./sp.model\"\n",
    "sp.load(vocab_file)"
   ]
  },
  {
   "cell_type": "code",
   "execution_count": 5,
   "metadata": {
    "colab": {
     "base_uri": "https://localhost:8080/"
    },
    "id": "UyCZkY-nw0pI",
    "outputId": "de917924-e713-4572-bfbb-b0aa0f215e30"
   },
   "outputs": [
    {
     "name": "stdout",
     "output_type": "stream",
     "text": [
      "cuda\n"
     ]
    }
   ],
   "source": [
    "batch_size = 64\n",
    "if torch.cuda.is_available():\n",
    "    print('cuda')\n",
    "    device = torch.device('cuda:0')\n",
    "else:\n",
    "    print('cpu')\n",
    "    device = torch.device('cpu')"
   ]
  },
  {
   "cell_type": "code",
   "execution_count": 6,
   "metadata": {
    "id": "y0Zbm3Zle_ee"
   },
   "outputs": [],
   "source": [
    "TEXT = Field(tokenize=sp.encode_as_ids,\n",
    "             use_vocab=False,\n",
    "             batch_first=True,\n",
    "             fix_length=30,\n",
    "             dtype=torch.float,\n",
    "             pad_token=0,\n",
    "             unk_token=16001)\n",
    "\n",
    "LABEL = Field(sequential=False,\n",
    "              use_vocab=False)"
   ]
  },
  {
   "cell_type": "code",
   "execution_count": 15,
   "metadata": {
    "id": "FTIF3xjKdrdQ"
   },
   "outputs": [],
   "source": [
    "train_data = TabularDataset(\n",
    "    path='./raw-data/train.tsv',\n",
    "    format='tsv', fields=[('text', TEXT), ('label', LABEL)])\n",
    "\n",
    "valid_data = TabularDataset(\n",
    "    path='./raw-data/test.tsv',\n",
    "    format='tsv', fields=[('text', TEXT), ('label', LABEL)])"
   ]
  },
  {
   "cell_type": "markdown",
   "metadata": {
    "id": "Jt85nFiDRvzQ"
   },
   "source": [
    "- Loader"
   ]
  },
  {
   "cell_type": "code",
   "execution_count": 16,
   "metadata": {
    "id": "zRV8atWCjZ9z"
   },
   "outputs": [],
   "source": [
    "train_loader = Iterator(dataset=train_data, batch_size=batch_size, shuffle=True, device=device)\n",
    "valid_loader = Iterator(dataset=valid_data, batch_size=batch_size, shuffle=True, device=device)"
   ]
  },
  {
   "cell_type": "code",
   "execution_count": 17,
   "metadata": {
    "colab": {
     "base_uri": "https://localhost:8080/"
    },
    "id": "f471zZ2xjKXV",
    "outputId": "1ecd5802-5b77-4efe-9ded-dd9fef394d42"
   },
   "outputs": [
    {
     "name": "stdout",
     "output_type": "stream",
     "text": [
      "285504\n",
      "173861\n"
     ]
    }
   ],
   "source": [
    "print(len(train_data))\n",
    "print(len(valid_data))"
   ]
  },
  {
   "cell_type": "markdown",
   "metadata": {
    "id": "BaWd-mp7Q5LL"
   },
   "source": [
    "---\n",
    "# Network and functions"
   ]
  },
  {
   "cell_type": "code",
   "execution_count": 18,
   "metadata": {
    "id": "zqHdlGMPAKle"
   },
   "outputs": [],
   "source": [
    "class Network(nn.Module):\n",
    "    def __init__(self):\n",
    "        super().__init__()\n",
    "        self.embedding = nn.Embedding(16001, 300)\n",
    "        self.lstm1 = nn.LSTM(300, 128)\n",
    "        self.lstm2 = nn.LSTM(128, 128)\n",
    "        self.fc1 = nn.Linear(3840, 128)\n",
    "        self.fc2 = nn.Linear(128, 3)\n",
    "\n",
    "    def forward(self, x):\n",
    "        x = self.embedding(x)\n",
    "        x,_ = self.lstm1(x)\n",
    "        x,_ = self.lstm2(x)\n",
    "        x = torch.flatten(x, start_dim=1)\n",
    "        x = F.relu(self.fc1(x))\n",
    "        x = self.fc2(x)\n",
    "        return x"
   ]
  },
  {
   "cell_type": "code",
   "execution_count": 40,
   "metadata": {
    "id": "SRAZ8OTalcPz"
   },
   "outputs": [],
   "source": [
    "def train(epochs, train_loader, valid_loader, model, optimizer, criterion, device):\n",
    "    for epoch in range(1, epochs + 1):\n",
    "        running_loss = 0.0\n",
    "\n",
    "        for idx, data in enumerate(train_loader, 0):\n",
    "            input = data.text.long().to(device)\n",
    "            label = data.label.to(device)\n",
    "            \n",
    "            optimizer.zero_grad()\n",
    "            output = model(input)\n",
    "            loss = criterion(output.squeeze(1), label)\n",
    "            loss.backward()\n",
    "            optimizer.step()\n",
    "            running_loss += loss.item()\n",
    "\n",
    "            if idx % 800 == 799:\n",
    "                print('[%d, %d] loss: %.3f' %(epoch, idx + 1, running_loss / 800))\n",
    "                running_loss = 0\n",
    "                \n",
    "        validation(model, valid_loader)\n",
    "        model.train()\n",
    "\n",
    "        if epoch % 2 == 0:  # Learning rate scheduling\n",
    "            for g in optimizer.param_groups:\n",
    "                g['lr'] *= 0.7\n",
    "    \n",
    "    return model"
   ]
  },
  {
   "cell_type": "code",
   "execution_count": 41,
   "metadata": {
    "id": "J5C341scdPuE"
   },
   "outputs": [],
   "source": [
    "def validation(model, valid_loader):\n",
    "    total = 0\n",
    "    correct = 0\n",
    "    with torch.no_grad():\n",
    "        for idx, data in enumerate(valid_loader, 0):\n",
    "            input = data.text.long().to(device)\n",
    "            label = data.label.to(device)\n",
    "\n",
    "            output = model(input)\n",
    "\n",
    "            _, predicted = torch.max(output.data, 1)\n",
    "            total += label.size(0)\n",
    "            correct += (predicted == label).sum().item()\n",
    "        print('\\tvalidation: {}%'.format((correct / total) * 100))"
   ]
  },
  {
   "cell_type": "markdown",
   "metadata": {
    "id": "5_uDhNajSM6S"
   },
   "source": [
    "# Train"
   ]
  },
  {
   "cell_type": "code",
   "execution_count": 42,
   "metadata": {
    "id": "WXFhXVPvwqD1"
   },
   "outputs": [],
   "source": [
    "net = Network().to(device)\n",
    "epochs = 10\n",
    "lr = 0.3\n",
    "optimizer = optim.SGD(net.parameters(), lr=lr)\n",
    "criterion = nn.CrossEntropyLoss()"
   ]
  },
  {
   "cell_type": "code",
   "execution_count": 43,
   "metadata": {
    "colab": {
     "base_uri": "https://localhost:8080/",
     "height": 700
    },
    "id": "aZlIo22v4ahr",
    "outputId": "881e7bd7-3485-46a4-a8ab-9e25430bd8d9"
   },
   "outputs": [
    {
     "name": "stdout",
     "output_type": "stream",
     "text": [
      "[1, 800] loss: 0.719\n",
      "[1, 1600] loss: 0.246\n",
      "[1, 2400] loss: 0.147\n",
      "[1, 3200] loss: 0.124\n",
      "[1, 4000] loss: 0.114\n",
      "\tvalidation: 96.07962682832837%\n",
      "[2, 800] loss: 0.091\n",
      "[2, 1600] loss: 0.088\n",
      "[2, 2400] loss: 0.087\n",
      "[2, 3200] loss: 0.081\n",
      "[2, 4000] loss: 0.082\n",
      "\tvalidation: 94.7446523372119%\n",
      "[3, 800] loss: 0.063\n",
      "[3, 1600] loss: 0.062\n",
      "[3, 2400] loss: 0.062\n",
      "[3, 3200] loss: 0.064\n",
      "[3, 4000] loss: 0.063\n",
      "\tvalidation: 96.8601353955171%\n",
      "[4, 800] loss: 0.052\n",
      "[4, 1600] loss: 0.055\n",
      "[4, 2400] loss: 0.056\n",
      "[4, 3200] loss: 0.058\n",
      "[4, 4000] loss: 0.060\n",
      "\tvalidation: 97.06029529336654%\n",
      "[5, 800] loss: 0.046\n",
      "[5, 1600] loss: 0.046\n",
      "[5, 2400] loss: 0.047\n",
      "[5, 3200] loss: 0.046\n",
      "[5, 4000] loss: 0.049\n",
      "\tvalidation: 97.04764150672088%\n",
      "[6, 800] loss: 0.042\n",
      "[6, 1600] loss: 0.040\n",
      "[6, 2400] loss: 0.043\n",
      "[6, 3200] loss: 0.043\n",
      "[6, 4000] loss: 0.046\n",
      "\tvalidation: 97.19833660222822%\n",
      "[7, 800] loss: 0.036\n",
      "[7, 1600] loss: 0.036\n",
      "[7, 2400] loss: 0.039\n",
      "[7, 3200] loss: 0.036\n",
      "[7, 4000] loss: 0.038\n",
      "\tvalidation: 97.43243165517282%\n",
      "[8, 800] loss: 0.031\n",
      "[8, 1600] loss: 0.035\n",
      "[8, 2400] loss: 0.033\n",
      "[8, 3200] loss: 0.036\n",
      "[8, 4000] loss: 0.037\n",
      "\tvalidation: 97.59060398824349%\n",
      "[9, 800] loss: 0.029\n",
      "[9, 1600] loss: 0.031\n",
      "[9, 2400] loss: 0.032\n",
      "[9, 3200] loss: 0.032\n",
      "[9, 4000] loss: 0.032\n",
      "\tvalidation: 97.28978896934908%\n",
      "[10, 800] loss: 0.029\n",
      "[10, 1600] loss: 0.028\n",
      "[10, 2400] loss: 0.029\n",
      "[10, 3200] loss: 0.030\n",
      "[10, 4000] loss: 0.030\n",
      "\tvalidation: 97.05972012124629%\n"
     ]
    }
   ],
   "source": [
    "net = train(epochs, train_loader, valid_loader, net, optimizer, criterion, device)"
   ]
  },
  {
   "cell_type": "markdown",
   "metadata": {
    "id": "-CYLzJymSQBB"
   },
   "source": [
    "# Save network"
   ]
  },
  {
   "cell_type": "code",
   "execution_count": 44,
   "metadata": {
    "id": "nKi5yOmbkh43"
   },
   "outputs": [],
   "source": [
    "torch.save(net.state_dict(), './discriminator.model')"
   ]
  },
  {
   "cell_type": "markdown",
   "metadata": {
    "id": "D4tBlBPDxwVh"
   },
   "source": [
    "---\n",
    "# Result"
   ]
  },
  {
   "cell_type": "code",
   "execution_count": 51,
   "metadata": {},
   "outputs": [],
   "source": [
    "from sklearn.metrics import accuracy_score, confusion_matrix, f1_score\n",
    "\n",
    "result = [[], []] # outputs, labels\n",
    "total = 0\n",
    "correct = 0\n",
    "with torch.no_grad():\n",
    "    for idx, data in enumerate(valid_loader, 0):\n",
    "        input = data.text.long().to(device)\n",
    "        label = data.label.to(device)\n",
    "\n",
    "        output = net(input)\n",
    "\n",
    "        _, predicted = torch.max(output.data, 1)\n",
    "        total += label.size(0)\n",
    "        correct += (predicted == label).sum().item()\n",
    "        result[0] += predicted.tolist()\n",
    "        result[1] += label.tolist()"
   ]
  },
  {
   "cell_type": "code",
   "execution_count": null,
   "metadata": {},
   "outputs": [],
   "source": [
    "def plot_confusion_matrix(cm, classes, normalize=False, title='Confusion matrix', cmap=plt.cm.Blues):\n",
    "    plt.figure(figsize=(5, 5))\n",
    "    plt.imshow(cm, interpolation='nearest', cmap=cmap)\n",
    "    plt.title(title)\n",
    "    plt.colorbar()\n",
    "    tick_marks = np.arange(len(classes))\n",
    "    plt.xticks(tick_marks, classes, rotation=45)\n",
    "    plt.yticks(tick_marks, classes)\n",
    "\n",
    "    fmt = '.2f' if normalize else 'd'\n",
    "    thresh = cm.max() / 2.\n",
    "    for i, j in itertools.product(range(cm.shape[0]), range(cm.shape[1])):\n",
    "        plt.text(j, i, format(cm[i, j], fmt), horizontalalignment=\"center\", color=\"white\" if cm[i, j] > thresh else \"black\")\n",
    "\n",
    "    plt.tight_layout()\n",
    "    plt.ylabel('True label')\n",
    "    plt.xlabel('Predicted label')\n",
    "    plt.show()"
   ]
  },
  {
   "cell_type": "code",
   "execution_count": 52,
   "metadata": {},
   "outputs": [],
   "source": [
    "outputs = result[0]\n",
    "labels = result[1]"
   ]
  },
  {
   "cell_type": "code",
   "execution_count": 65,
   "metadata": {},
   "outputs": [
    {
     "data": {
      "image/png": "[encoded data removed]",
      "text/plain": [
       "<Figure size 360x360 with 2 Axes>"
      ]
     },
     "metadata": {
      "needs_background": "light"
     },
     "output_type": "display_data"
    }
   ],
   "source": [
    "import numpy as np\n",
    "import itertools\n",
    "cm = confusion_matrix(labels, outputs)\n",
    "classes = ['movie', 'news', 'shopping']\n",
    "\n",
    "cmap=plt.cm.Blues\n",
    "title='Confusion matrix'\n",
    "normalize=False\n",
    "plt.figure(figsize=(5, 5))\n",
    "plt.imshow(cm, interpolation='nearest', cmap=cmap)\n",
    "plt.title(title)\n",
    "plt.colorbar()\n",
    "tick_marks = np.arange(len(classes))\n",
    "plt.xticks(tick_marks, classes, rotation=45)\n",
    "plt.yticks(tick_marks, classes)\n",
    "\n",
    "fmt = '.2f' if normalize else 'd'\n",
    "thresh = cm.max() / 2.\n",
    "for i, j in itertools.product(range(cm.shape[0]), range(cm.shape[1])):\n",
    "    plt.text(j, i, format(cm[i, j], fmt), horizontalalignment=\"center\", color=\"white\" if cm[i, j] > thresh else \"black\")\n",
    "\n",
    "plt.tight_layout()\n",
    "plt.ylabel('True label')\n",
    "plt.xlabel('Predicted label')\n",
    "plt.savefig(\"confusion_matrix.png\")"
   ]
  }
 ],
 "metadata": {
  "accelerator": "GPU",
  "colab": {
   "collapsed_sections": [],
   "name": "algorima_real.ipynb",
   "provenance": [],
   "toc_visible": true
  },
  "kernelspec": {
   "display_name": "Python 3",
   "language": "python",
   "name": "python3"
  },
  "language_info": {
   "codemirror_mode": {
    "name": "ipython",
    "version": 3
   },
   "file_extension": ".py",
   "mimetype": "text/x-python",
   "name": "python",
   "nbconvert_exporter": "python",
   "pygments_lexer": "ipython3",
   "version": "3.6.10"
  }
 },
 "nbformat": 4,
 "nbformat_minor": 1
}
