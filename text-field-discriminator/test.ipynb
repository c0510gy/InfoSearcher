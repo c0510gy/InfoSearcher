{
 "cells": [
  {
   "cell_type": "code",
   "execution_count": 2,
   "id": "05d07668",
   "metadata": {},
   "outputs": [],
   "source": [
    "# pytorch\n",
    "import torch\n",
    "import torch.nn as nn\n",
    "import torch.nn.functional as F\n",
    "import torch.optim as optim\n",
    "from torchtext.legacy.data import Field, TabularDataset, Iterator"
   ]
  },
  {
   "cell_type": "code",
   "execution_count": 3,
   "id": "839fdda7",
   "metadata": {},
   "outputs": [],
   "source": [
    "import sentencepiece as spm\n",
    "import matplotlib.pyplot as plt"
   ]
  },
  {
   "cell_type": "code",
   "execution_count": 7,
   "id": "d743ea48",
   "metadata": {},
   "outputs": [
    {
     "name": "stdout",
     "output_type": "stream",
     "text": [
      "cuda\n"
     ]
    }
   ],
   "source": [
    "if torch.cuda.is_available():\n",
    "    print('cuda')\n",
    "    device = torch.device('cuda:0')\n",
    "else:\n",
    "    print('cpu')\n",
    "    device = torch.device('cpu')"
   ]
  },
  {
   "cell_type": "code",
   "execution_count": 4,
   "id": "ae6246f7",
   "metadata": {},
   "outputs": [
    {
     "data": {
      "text/plain": [
       "True"
      ]
     },
     "execution_count": 4,
     "metadata": {},
     "output_type": "execute_result"
    }
   ],
   "source": [
    "# Load sentence piece model\n",
    "\n",
    "sp = spm.SentencePieceProcessor()\n",
    "vocab_file = \"./sp.model\"\n",
    "sp.load(vocab_file)"
   ]
  },
  {
   "cell_type": "code",
   "execution_count": 5,
   "id": "956ef5ca",
   "metadata": {},
   "outputs": [],
   "source": [
    "class Network(nn.Module):\n",
    "    def __init__(self):\n",
    "        super().__init__()\n",
    "        self.embedding = nn.Embedding(16001, 300)\n",
    "        self.lstm1 = nn.LSTM(300, 128)\n",
    "        self.lstm2 = nn.LSTM(128, 128)\n",
    "        self.fc1 = nn.Linear(3840, 128)\n",
    "        self.fc2 = nn.Linear(128, 3)\n",
    "\n",
    "    def forward(self, x):\n",
    "        x = self.embedding(x)\n",
    "        x,_ = self.lstm1(x)\n",
    "        x,_ = self.lstm2(x)\n",
    "        x = torch.flatten(x, start_dim=1)\n",
    "        x = F.relu(self.fc1(x))\n",
    "        x = self.fc2(x)\n",
    "        return x"
   ]
  },
  {
   "cell_type": "code",
   "execution_count": 6,
   "id": "4dfa9a20",
   "metadata": {},
   "outputs": [
    {
     "data": {
      "text/plain": [
       "Network(\n",
       "  (embedding): Embedding(16001, 300)\n",
       "  (lstm1): LSTM(300, 128)\n",
       "  (lstm2): LSTM(128, 128)\n",
       "  (fc1): Linear(in_features=3840, out_features=128, bias=True)\n",
       "  (fc2): Linear(in_features=128, out_features=3, bias=True)\n",
       ")"
      ]
     },
     "execution_count": 6,
     "metadata": {},
     "output_type": "execute_result"
    }
   ],
   "source": [
    "model = Network()\n",
    "model.load_state_dict(torch.load('./discriminator.model'))\n",
    "model.eval()"
   ]
  },
  {
   "cell_type": "code",
   "execution_count": 14,
   "id": "0ffcd1eb",
   "metadata": {},
   "outputs": [],
   "source": [
    "def process_sents(sents):\n",
    "    sents = [sp.encode_as_ids(sent.strip()) for sent in sents]\n",
    "    data_set = []\n",
    "    for sent in sents:\n",
    "        if len(sent) <= 30:\n",
    "            sent.extend([0 for _ in range(30 - len(sent))])\n",
    "        else:\n",
    "            sent = sent[:30]\n",
    "        data_set.append(sent)\n",
    "    data_set = torch.tensor(data_set)\n",
    "    return data_set"
   ]
  },
  {
   "cell_type": "code",
   "execution_count": 19,
   "id": "f8cf9157",
   "metadata": {},
   "outputs": [],
   "source": [
    "def classify_field(sents, sp, model):\n",
    "    sents = process_sents(sents)\n",
    "    \n",
    "    fields = [0, 0, 0]\n",
    "    for idx in range(len(sents)):\n",
    "        sent = sents[idx].unsqueeze(0).long().to(device)\n",
    "        output = model(sent)\n",
    "        fields[torch.max(output.data, dim=1)[1].item()] += 1\n",
    "    \n",
    "    \n",
    "    return ['movie', 'news', 'shopping'][fields.index(max(fields))]"
   ]
  },
  {
   "cell_type": "code",
   "execution_count": 20,
   "id": "73f9fe94",
   "metadata": {},
   "outputs": [
    {
     "data": {
      "text/plain": [
       "'movie'"
      ]
     },
     "execution_count": 20,
     "metadata": {},
     "output_type": "execute_result"
    }
   ],
   "source": [
    "# https://extmovie.com/movietalk/65867835\n",
    "model.to(device)\n",
    "text = [\n",
    "    \"넘버링이 길어질수록 초심을 잃고 방황하거나 기존의 장점을 잃고 퇴색해버리는 시리즈들의 예는 정말 셀 수가 없을 정도죠.\",\n",
    "    \"특히 공포영화 시리즈라면 더더욱요.\",\n",
    "    \"컨저링 3: 악마가 시켰다 는 이런 저주를 영리하게 피했다고도 할 수 있고 예외없이 맞이했다고도 볼 수 있습니다.\",\n",
    "    \"무슨 말이냐면 이번 3편의 경우 기존 전작들의 공포 노선과는 방향성이 뚜렷하게 차이난다는 것이죠.\",\n",
    "    \"제임스 완이 메가폰을 잡았던 1 2편의 경우 장소, 소품의 기믹을 활용한 창의적인 공포가 주를 이뤘습니다.\",\n",
    "    \"장소의 경우 1편의 깜깜하게 암전된 지하실에서의 숨바꼭질 박수, 소품의 경우 2편의 걸어오는 액자 같은 경우죠.\",\n",
    "    \"3편은 요로나의 저주로 악명..이 높았던 마이클 차베즈가 메가폰을 잡았는데, 시리즈 기존의 창의적 점프스케어와는 다르게 일반 공포영화에서 선보이는 밋밋하다면 밋밋할 수 있는 점프스케어를 연출합니다.\",\n",
    "    \"점프스케어의 타이밍도 어지간히 읽히는 편이고, 확실히 전편들보다 아이디어의 부족에서 오는 식상함도 강하게 느껴지기는 합니다.\",\n",
    "    \"다만 말씀드렸듯이 이는 반대로 생각해보면 일반적인 공포영화 스타일의 회귀로 시리즈 피로감을 어떻게든 줄여보려 했다는 역발상에서 왔다는 느낌도 지울 수가 없더군요.\",\n",
    "    \"관점에 따라 달리보이는 영화라고 결론짓고 싶습니다.\",\n",
    "    \"장소와 소품의 기믹을 활용한 이전의 컨저링을 더 보고 싶어서 간 거라면 식상한 점프스케어를 남발하는 지루한 공포영화로, 그냥 순수하게 읽히더라도 놀라는 재미나 기존의 공포영화가 목메이셨던 분들에게는 괜찮은 영화로 다가올 거 같네요.\",\n",
    "    \"개인적으로는 드라마도 헐리웃 공식을 따라가면서 잘 짜여졌다 보는 편이고 워렌 부부를 맡은 패트릭 윌슨과 베라 파미가의 연기가 여전히 출중한 편이기 때문에 후자의 느낌으로 재밌게 봤습니다.\",\n",
    "    \"그 요로나의 저주 감독이라 걱정이 앞서긴 했는데 그냥저냥 괜찮았다 보네요.\",\n",
    "]\n",
    "classify_field(text, sp, model)"
   ]
  },
  {
   "cell_type": "code",
   "execution_count": 21,
   "id": "9ca7aff1",
   "metadata": {},
   "outputs": [
    {
     "data": {
      "text/plain": [
       "'news'"
      ]
     },
     "execution_count": 21,
     "metadata": {},
     "output_type": "execute_result"
    }
   ],
   "source": [
    "# https://news.naver.com/main/read.nhn?mode=LSD&mid=shm&sid1=100&oid=028&aid=0002547295\n",
    "model.to(device)\n",
    "text = [\n",
    "    \"문재인 대통령이 4일 취임 뒤 두번째로 국가정보원을 방문해 박지원 국정원장으로부터 ‘개혁성과’를 보고받고 “우리는 국정원의 정치적 중립성을 확실하게 보장하겠다는 약속을 지켰다”고 말했다.\",\n",
    "    \"문 대통령은 이날 ‘국정원 개혁성과 보고회’에서 “나는 지난 2018년 7월 이곳에서 결코 국정원을 정치적으로 이용하지 않겠고, 정권에 충성할 것을 요구하지 않을 것이며 정치적 중립성을 확실하게 보장하겠다고 약속했다”며 “나도, 여러분도 그 약속을 지켰다”고 말했다고 청와대는 밝혔다.\",\n",
    "    \"또한 “이제 국정원이 다시 과거로 돌아가는 일은 없을 것이다.\",\n",
    "    \"개혁의 주체가 된 국정원 직원들의 헌신적인 노력과 정부의 강력한 의지가 이룬 소중한 결실이자 국정원 역사에 길이 남을 찬란한 이정표가 아닐 수 없다”고 했다.\",\n",
    "    \"아울러 문 대통령은 “국정원은 국내정보조직의 해편을 단행하고 의혹 사건에 대한 진실 규명 작업을 진행하는 한편, 정보활동부터 예산 집행에 이르기까지 적법 절차에 따라 투명하게 업무를 수행하는 문화를 정착시켰다”면서 “마침내 지난해 12월, 국가정보원법 전면 개정 입법을 통해 개혁의 확고한 제도화를 달성했다”고 평가했다.\",\n",
    "    \"국정원은 이날 업무보고를 통해 국정원법 개정으로 국내 정보 업무가 폐지되었고, 방첩·대테러·사이버·우주정보 등의 업무가 구체화되거나 새로 추가됨에 따라 조직 체계 전반을 재정비했다고 밝혔다.\",\n",
    "    \"대공수사권 이전과 관련해서는 올해 경찰과 합동수사를 진행했고, 새로운 협업수사 모델을 시범 운영하는 등 2023년 말까지 완전한 수사권 이관을 차질 없이 추진하겠다고 했다.\",\n",
    "    \"또 변호사 자격을 가진 준법지원관이 업무 전 과정에서 준법 여부를 확인하고 있고, 외부 인권보호관을 위촉하는 등 외부 통제도 강화했다고 보고했다.\",\n",
    "    \"박지원 원장은 “국정원은 국민의 요구와 정부의 강력한 의지, 전 직원의 노력으로 정치와 완전히 절연하고 북한·해외 전문 정보기관으로 다시 태어나고 있다. ‘일 잘하는 국정원’ ‘미래로 가는 국정원‘이 되겠다”고 말했다고 청와대는 전했다.\",\n",
    "    \"문 대통령은 업무보고를 받기 전 순직한 정보 요원들을 기리기 위해 국정원 청사에 설치된 ‘이름없는 별’ 조형물 앞에서 묵념했다.\",\n",
    "    \"최근 이 별은 18개에서 19개로 늘었다.\",\n",
    "    \"문 대통령은 “지난 2018년 제막한 ‘이름 없는 별’에 그 사이 별 하나가 더해진 것에 대해 가슴이 아프다.\",\n",
    "    \"살아서도, 죽어서도 이름과 직책조차 남기지 않은 채, 오직 ‘국익을 위한 헌신’이라는 명예만을 남긴 이름 없는 별들의 헌신에 고개 숙여 감사드린다”고 말했다.\",\n",
    "]\n",
    "classify_field(text, sp, model)"
   ]
  },
  {
   "cell_type": "code",
   "execution_count": null,
   "id": "208a133b",
   "metadata": {},
   "outputs": [],
   "source": []
  }
 ],
 "metadata": {
  "kernelspec": {
   "display_name": "Python 3",
   "language": "python",
   "name": "python3"
  },
  "language_info": {
   "codemirror_mode": {
    "name": "ipython",
    "version": 3
   },
   "file_extension": ".py",
   "mimetype": "text/x-python",
   "name": "python",
   "nbconvert_exporter": "python",
   "pygments_lexer": "ipython3",
   "version": "3.6.10"
  }
 },
 "nbformat": 4,
 "nbformat_minor": 5
}
